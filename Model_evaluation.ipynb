{
 "cells": [
  {
   "cell_type": "code",
   "execution_count": 1,
   "metadata": {},
   "outputs": [],
   "source": [
    "import numpy as np\n",
    "import pandas as pd\n",
    "import faiss\n",
    "from tqdm import tqdm as tqdm"
   ]
  },
  {
   "cell_type": "markdown",
   "metadata": {},
   "source": [
    "## Model evaluation\n",
    "- Intersection\n",
    "- Concatenation\n",
    "- Title -> Img\n",
    "- Img -> Title"
   ]
  },
  {
   "cell_type": "markdown",
   "metadata": {},
   "source": [
    "## Load data"
   ]
  },
  {
   "cell_type": "code",
   "execution_count": 6,
   "metadata": {},
   "outputs": [],
   "source": [
    "# load data (title, cleaned_title, arr_weight)\n",
    "# data path\n",
    "DATA_PATH = 'res/data/new_feat_df.csv'\n",
    "TEST_PATH = 'res/data/test_df.csv'\n",
    "\n",
    "arr_title = pd.read_csv(DATA_PATH, usecols=['title']).values\n",
    "cleaned_arr_title = pd.read_csv(DATA_PATH, usecols=['cleaned_title']).fillna('').values\n",
    "arr_weight = pd.read_csv(DATA_PATH, usecols=['weight']).values"
   ]
  },
  {
   "cell_type": "code",
   "execution_count": 7,
   "metadata": {},
   "outputs": [
    {
     "name": "stdout",
     "output_type": "stream",
     "text": [
      "(5000,)\n"
     ]
    }
   ],
   "source": [
    "total_df = pd.read_csv(DATA_PATH)\n",
    "\n",
    "test_df = pd.read_csv(TEST_PATH)\n",
    "test_title = test_df['title'].values\n",
    "\n",
    "print(test_title.shape)"
   ]
  },
  {
   "cell_type": "code",
   "execution_count": 13,
   "metadata": {},
   "outputs": [],
   "source": [
    "from faiss_handle import FaissHandler\n",
    "\n",
    "# vector path\n",
    "arr_title_vector_path = 'res/data/가공식품_wvs.npz'\n",
    "arr_img_vector_path = 'res/data/가공식품_IMGF.npz'\n",
    "arr_concat_vector_path = 'res/data/CONCAT_가공식품.npz'\n",
    "\n",
    "# load vector (title / img / concat)\n",
    "arr_title_vector = np.ascontiguousarray(np.load(arr_title_vector_path)['arr_0'], dtype=np.float32)\n",
    "arr_img_vector = np.ascontiguousarray(np.load(arr_img_vector_path)['arr_0'], dtype=np.float32)\n",
    "arr_concat_vector = np.ascontiguousarray(np.load(arr_concat_vector_path)['arr_0'], dtype=np.float32)\n",
    "\n",
    "# faiss_handler\n",
    "faiss_handler = FaissHandler()\n",
    "\n",
    "# index path\n",
    "title_index_path = 'res/model/index/title.h5'\n",
    "img_index_path = 'res/model/index/image.h5'\n",
    "concat_index_path = 'res/model/index/concat.h5'\n",
    "\n",
    "# load index\n",
    "title_index = faiss_handler.load_index(title_index_path)\n",
    "img_index = faiss_handler.load_index(img_index_path)\n",
    "concat_index = faiss_handler.load_index(concat_index_path)"
   ]
  },
  {
   "cell_type": "markdown",
   "metadata": {},
   "source": [
    "## EVAL MODEL"
   ]
  },
  {
   "cell_type": "markdown",
   "metadata": {},
   "source": [
    "### Intersection"
   ]
  },
  {
   "cell_type": "code",
   "execution_count": 14,
   "metadata": {},
   "outputs": [
    {
     "name": "stderr",
     "output_type": "stream",
     "text": [
      "100%|██████████| 5000/5000 [07:51<00:00, 10.61it/s]"
     ]
    },
    {
     "name": "stdout",
     "output_type": "stream",
     "text": [
      "Intersection \n",
      " recall : 79.5 \t precision : 81.8\n"
     ]
    },
    {
     "name": "stderr",
     "output_type": "stream",
     "text": [
      "\n"
     ]
    }
   ],
   "source": [
    "from procs.evaluation.model_evaluation import *\n",
    "\n",
    "scores = np.zeros(len(test_title))\n",
    "precisions = np.zeros(len(test_title))\n",
    "\n",
    "num = 0\n",
    "\n",
    "for query_title in tqdm(test_title):\n",
    "    \n",
    "    # intersection\n",
    "    acc, prec = evaluate_model(query_title, total_df, arr_title, \\\n",
    "                               img_index, title_index, arr_img_vector, arr_title_vector, \\\n",
    "                               img_thrshold=0.3, title_threshold=0.1, weight_check=True)\n",
    "    scores[num] = acc\n",
    "    precisions[num] = prec\n",
    "    num += 1\n",
    "\n",
    "avg_scores, avg_precision = np.round(scores.mean(),3) * 100, np.round(precisions.mean(),3) * 100\n",
    "\n",
    "print('Intersection \\n recall : {0} \\t precision : {1}'.format(avg_scores, avg_precision))"
   ]
  },
  {
   "cell_type": "markdown",
   "metadata": {},
   "source": [
    "### Concatenation"
   ]
  },
  {
   "cell_type": "code",
   "execution_count": 15,
   "metadata": {},
   "outputs": [
    {
     "name": "stderr",
     "output_type": "stream",
     "text": [
      "100%|██████████| 5000/5000 [05:59<00:00, 13.93it/s]"
     ]
    },
    {
     "name": "stdout",
     "output_type": "stream",
     "text": [
      "Concatenation \n",
      " recall : 81.6 \t precision : 79.80000000000001\n"
     ]
    },
    {
     "name": "stderr",
     "output_type": "stream",
     "text": [
      "\n"
     ]
    }
   ],
   "source": [
    "scores = np.zeros(len(test_title))\n",
    "precisions = np.zeros(len(test_title))\n",
    "\n",
    "num = 0\n",
    "\n",
    "for query_title in tqdm(test_title):\n",
    "\n",
    "    # 단일 모델과 concatenation 모델과 로직은 같음\n",
    "    acc, prec = title_evaluate_model(query_title, total_df, arr_title, \\\n",
    "                                     title_index, arr_title_vector, \\\n",
    "                                     title_threshold=0.05, weight_check=True)\n",
    "    scores[num] = acc\n",
    "    precisions[num] = prec\n",
    "    num += 1\n",
    "\n",
    "avg_scores, avg_precision = np.round(scores.mean(),3) * 100, np.round(precisions.mean(),3) * 100\n",
    "\n",
    "print('Concatenation \\n recall : {0} \\t precision : {1}'.format(avg_scores, avg_precision))"
   ]
  },
  {
   "cell_type": "markdown",
   "metadata": {},
   "source": [
    "### Title -> Img"
   ]
  },
  {
   "cell_type": "code",
   "execution_count": 16,
   "metadata": {},
   "outputs": [
    {
     "name": "stderr",
     "output_type": "stream",
     "text": [
      "  0%|          | 0/5000 [00:00<?, ?it/s]/Users/we/workspace/We/clean_product_clustering/procs/evaluation/model_evaluation.py:39: RuntimeWarning: invalid value encountered in float_scalars\n",
      "  similarity = np.inner(find_vector, sim_vector) / (np.linalg.norm(find_vector) * np.linalg.norm(sim_vector))\n",
      "/Users/we/workspace/We/clean_product_clustering/procs/evaluation/model_evaluation.py:140: RuntimeWarning: invalid value encountered in greater\n",
      "  sim_title_idx = np.where(similarity_array > cos_threshold)[0]\n",
      "100%|██████████| 5000/5000 [22:29<00:00,  3.71it/s]"
     ]
    },
    {
     "name": "stdout",
     "output_type": "stream",
     "text": [
      "Multifilter1 \n",
      " recall : 0.7923576843838324 \t precision : 0.8685172861588982\n"
     ]
    },
    {
     "name": "stderr",
     "output_type": "stream",
     "text": [
      "\n"
     ]
    }
   ],
   "source": [
    "scores = np.zeros(len(test_title))\n",
    "precisions = np.zeros(len(test_title))\n",
    "\n",
    "num = 0\n",
    "\n",
    "for query_title in tqdm(test_title):\n",
    "    \n",
    "    # model_1 = title -> img\n",
    "    acc, prec = multi_filter_evaluate_model_1(query_title, total_df, arr_title, \\\n",
    "                                              img_index, arr_img_vector, arr_title_vector, \\\n",
    "                                              img_thrshold=0.4, cos_threshold=0.9999, weight_check=True)\n",
    "    scores[num] = acc\n",
    "    precisions[num] = prec\n",
    "    num += 1\n",
    "\n",
    "avg_scores, avg_precision = scores.mean(), precisions.mean()\n",
    "\n",
    "print('Multifilter1 \\n recall : {0} \\t precision : {1}'.format(avg_scores, avg_precision))"
   ]
  },
  {
   "cell_type": "markdown",
   "metadata": {},
   "source": [
    "### Img -> Title"
   ]
  },
  {
   "cell_type": "code",
   "execution_count": 17,
   "metadata": {},
   "outputs": [
    {
     "name": "stderr",
     "output_type": "stream",
     "text": [
      "100%|██████████| 5000/5000 [07:17<00:00, 11.43it/s]"
     ]
    },
    {
     "name": "stdout",
     "output_type": "stream",
     "text": [
      "Multifilter2 \n",
      " recall : 0.7955635767104599 \t precision : 0.8455598132853204\n"
     ]
    },
    {
     "name": "stderr",
     "output_type": "stream",
     "text": [
      "\n"
     ]
    }
   ],
   "source": [
    "scores = np.zeros(len(test_title))\n",
    "precisions = np.zeros(len(test_title))\n",
    "\n",
    "num = 0\n",
    "\n",
    "for query_title in tqdm(test_title):\n",
    "    \n",
    "    # model_2 = img -> title\n",
    "    acc, prec = multi_filter_evaluate_model_2(query_title, total_df, arr_title, \\\n",
    "                                              title_index, arr_img_vector, arr_title_vector, \\\n",
    "                                              title_threshold=0.1, cos_threshold=0.9, weight_check=True)\n",
    "    scores[num] = acc\n",
    "    precisions[num] = prec\n",
    "    num += 1\n",
    "\n",
    "avg_scores, avg_precision = scores.mean(), precisions.mean()\n",
    "\n",
    "print('Multifilter2 \\n recall : {0} \\t precision : {1}'.format(avg_scores, avg_precision))"
   ]
  }
 ],
 "metadata": {
  "kernelspec": {
   "display_name": "Python 3",
   "language": "python",
   "name": "python3"
  },
  "language_info": {
   "codemirror_mode": {
    "name": "ipython",
    "version": 3
   },
   "file_extension": ".py",
   "mimetype": "text/x-python",
   "name": "python",
   "nbconvert_exporter": "python",
   "pygments_lexer": "ipython3",
   "version": "3.7.6"
  }
 },
 "nbformat": 4,
 "nbformat_minor": 4
}
