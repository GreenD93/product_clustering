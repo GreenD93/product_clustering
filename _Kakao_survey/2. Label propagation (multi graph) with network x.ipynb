{
 "cells": [
  {
   "cell_type": "code",
   "execution_count": 219,
   "metadata": {},
   "outputs": [],
   "source": [
    "import networkx as nx\n",
    "from networkx.algorithms import node_classification\n",
    "\n",
    "def create_toy_network():\n",
    "    \n",
    "    G = nx.MultiGraph()\n",
    "    edges = [('A','B'), ('B','A'), \n",
    "             ('X','A'), ('A','X'),\n",
    "             ('X','Y'), ('C','X'), \n",
    "             ('C','Y'), ('C','Z'),\n",
    "             ('D','Y'), ('O','P'),\n",
    "             ('P','Q')]\n",
    "    \n",
    "    G.add_edges_from(edges)\n",
    "\n",
    "    G.nodes['A']['label'] = 'RED'\n",
    "    G.nodes['C']['label'] = 'BLUE'\n",
    "    G.nodes['D']['label'] = 'RED'\n",
    "    G.nodes['O']['label'] = 'BLUE'\n",
    "    G.nodes['O']['label'] = 'RED'\n",
    "    \n",
    "    return G"
   ]
  },
  {
   "cell_type": "code",
   "execution_count": 293,
   "metadata": {},
   "outputs": [],
   "source": [
    "import networkx as nx\n",
    "from networkx.algorithms import node_classification\n",
    "\n",
    "def create_toy_network():\n",
    "    \n",
    "    G = nx.MultiGraph()\n",
    "\n",
    "    edges = [('A','B'),\n",
    "             ('B','C'), ('C','B'),\n",
    "             ('B','D'), ('D','C'),\n",
    "             ('O','P'),('P','Q')]\n",
    "    \n",
    "    G.add_edges_from(edges)\n",
    "\n",
    "    G.nodes['A']['label'] = 'RED'\n",
    "    G.nodes['C']['label'] = 'BLUE'\n",
    "    G.nodes['P']['label'] = 'GREEN'\n",
    "    \n",
    "    return G"
   ]
  },
  {
   "cell_type": "code",
   "execution_count": 300,
   "metadata": {},
   "outputs": [],
   "source": [
    "def create_toy_network():\n",
    "    \n",
    "    G = nx.MultiGraph()\n",
    "\n",
    "    edges = [('A','B'),\n",
    "             ('B','C'), ('C','B'),\n",
    "             ('B','D'), ('D','C'),\n",
    "             ('O','P'),('P','Q')]\n",
    "    \n",
    "    G.add_edges_from(edges)\n",
    "\n",
    "    G.nodes['A']['label'] = 'RED'\n",
    "    G.nodes['C']['label'] = 'BLUE'\n",
    "    G.nodes['P']['label'] = 'GREEN'\n",
    "    \n",
    "    return G"
   ]
  },
  {
   "cell_type": "code",
   "execution_count": 356,
   "metadata": {},
   "outputs": [],
   "source": [
    "def create_toy_network():\n",
    "    \n",
    "    G = nx.MultiGraph()\n",
    "    \n",
    "    edges = ('A','B',{'weight'=0.5})\n",
    "            ('A','C',{'weight'=0.2})\n",
    "    ('C','A',{'weight'=0.2})\n",
    "\n",
    "    \n",
    "\n",
    "    G.nodes['B']['label'] = 'RED'\n",
    "    G.nodes['C']['label'] = 'BLUE'\n",
    "    \n",
    "    return G"
   ]
  },
  {
   "cell_type": "code",
   "execution_count": 357,
   "metadata": {},
   "outputs": [],
   "source": [
    "G = create_toy_network()"
   ]
  },
  {
   "cell_type": "code",
   "execution_count": 358,
   "metadata": {},
   "outputs": [
    {
     "data": {
      "image/png": "[encoded data removed]",
      "text/plain": [
       "<Figure size 432x288 with 1 Axes>"
      ]
     },
     "metadata": {},
     "output_type": "display_data"
    }
   ],
   "source": [
    "G = create_toy_network() \n",
    "nx.draw(G,labels=G.nodes(), with_labels = True)\n"
   ]
  },
  {
   "cell_type": "code",
   "execution_count": 359,
   "metadata": {},
   "outputs": [],
   "source": [
    "nx.nx_pydot.write_dot(G,'multi_new1.dot')\n",
    "!neato -T png multi_new1.dot > multi_new1.png"
   ]
  },
  {
   "cell_type": "code",
   "execution_count": 360,
   "metadata": {},
   "outputs": [
    {
     "name": "stdout",
     "output_type": "stream",
     "text": [
      "['A', 'B', 'C']\n"
     ]
    }
   ],
   "source": [
    "print(G.nodes())"
   ]
  },
  {
   "cell_type": "code",
   "execution_count": 361,
   "metadata": {},
   "outputs": [
    {
     "data": {
      "text/plain": [
       "['RED', 'RED', 'BLUE']"
      ]
     },
     "execution_count": 361,
     "metadata": {},
     "output_type": "execute_result"
    }
   ],
   "source": [
    "node_classification.harmonic_function(G)"
   ]
  },
  {
   "cell_type": "code",
   "execution_count": 362,
   "metadata": {},
   "outputs": [
    {
     "data": {
      "text/plain": [
       "['RED', 'RED', 'BLUE']"
      ]
     },
     "execution_count": 362,
     "metadata": {},
     "output_type": "execute_result"
    }
   ],
   "source": [
    "node_classification.local_and_global_consistency(G)"
   ]
  },
  {
   "cell_type": "code",
   "execution_count": 262,
   "metadata": {},
   "outputs": [],
   "source": [
    "# for node_id, pred in zip(G.nodes(),predictions):\n",
    "#     G.nodes[node_id]['label'] = pred"
   ]
  },
  {
   "cell_type": "code",
   "execution_count": 263,
   "metadata": {},
   "outputs": [
    {
     "data": {
      "text/plain": [
       "NodeView(('A', 'B', 'C', 'D'))"
      ]
     },
     "execution_count": 263,
     "metadata": {},
     "output_type": "execute_result"
    }
   ],
   "source": [
    "G.nodes()"
   ]
  },
  {
   "cell_type": "markdown",
   "metadata": {},
   "source": [
    "## Evaluation"
   ]
  },
  {
   "cell_type": "code",
   "execution_count": 251,
   "metadata": {},
   "outputs": [],
   "source": [
    "from scipy import sparse\n",
    "import numpy as np"
   ]
  },
  {
   "cell_type": "code",
   "execution_count": null,
   "metadata": {},
   "outputs": [],
   "source": [
    "def _build_propagation_matrix(X, labels):\n",
    "    \"\"\"Build propagation matrix of Harmonic function\n",
    "\n",
    "    Parameters\n",
    "    ----------\n",
    "    X : scipy sparse matrix, shape = [n_samples, n_samples]\n",
    "        Adjacency matrix\n",
    "    labels : array, shape = [n_samples, 2]\n",
    "        Array of pairs of node id and label id\n",
    "\n",
    "    Returns\n",
    "    ----------\n",
    "    P : scipy sparse matrix, shape = [n_samples, n_samples]\n",
    "        Propagation matrix\n",
    "\n",
    "    \"\"\"\n",
    "    degrees = X.sum(axis=0).A[0]\n",
    "    degrees[degrees == 0] = 1  # Avoid division by 0\n",
    "    D = sparse.diags((1.0 / degrees), offsets=0)\n",
    "    P = D.dot(X).tolil()\n",
    "    P[labels[:, 0]] = 0  # labels[:, 0] indicates IDs of labeled nodes\n",
    "    return P\n",
    "\n",
    "    def _build_base_matrix(X, labels, n_classes):\n",
    "    \"\"\"Build base matrix of Harmonic function\n",
    "\n",
    "    Parameters\n",
    "    ----------\n",
    "    X : scipy sparse matrix, shape = [n_samples, n_samples]\n",
    "        Adjacency matrix\n",
    "    labels : array, shape = [n_samples, 2]\n",
    "        Array of pairs of node id and label id\n",
    "    n_classes : integer\n",
    "        The number of classes (distinct labels) on the input graph\n",
    "\n",
    "    Returns\n",
    "    ----------\n",
    "    B : array, shape = [n_samples, n_classes]\n",
    "        Base matrix\n",
    "    \"\"\"\n",
    "    n_samples = X.shape[0]\n",
    "    B = np.zeros((n_samples, n_classes))\n",
    "    B[labels[:, 0], labels[:, 1]] = 1\n",
    "    return B\n",
    "\n",
    "X = nx.to_scipy_sparse_matrix(G)  # adjacency matrix\n",
    "labels, label_dict = _get_label_info(G, label_name)\n",
    "\n",
    "if labels.shape[0] == 0:\n",
    "    raise nx.NetworkXError(\n",
    "        \"No node on the input graph is labeled by '\" + label_name + \"'.\")\n",
    "\n",
    "n_samples = X.shape[0]\n",
    "n_classes = label_dict.shape[0]\n",
    "\n",
    "F = _init_label_matrix(n_samples, n_classes)\n",
    "\n",
    "P = _build_propagation_matrix(X, labels)\n",
    "B = _build_base_matrix(X, labels, n_classes)\n",
    "\n",
    "remaining_iter = max_iter\n",
    "while remaining_iter > 0:\n",
    "    F = _propagate(P, F, B)\n",
    "    remaining_iter -= 1\n",
    "\n",
    "predicted = _predict(F, label_dict)\n",
    "\n",
    "return predicted"
   ]
  },
  {
   "cell_type": "code",
   "execution_count": 253,
   "metadata": {},
   "outputs": [],
   "source": [
    "def _build_propagation_matrix(X, labels):\n",
    "    \n",
    "    \"\"\"Build propagation matrix of Harmonic function\n",
    "\n",
    "    Parameters\n",
    "    ----------\n",
    "    X : scipy sparse matrix, shape = [n_samples, n_samples]\n",
    "        Adjacency matrix\n",
    "    labels : array, shape = [n_samples, 2]\n",
    "        Array of pairs of node id and label id\n",
    "\n",
    "    Returns\n",
    "    ----------\n",
    "    P : scipy sparse matrix, shape = [n_samples, n_samples]\n",
    "        Propagation matrix\n",
    "\n",
    "    \"\"\"\n",
    "    \n",
    "    degrees = X.sum(axis=0).A[0]\n",
    "    degrees[degrees == 0] = 1  # Avoid division by 0\n",
    "    D = sparse.diags((1.0 / degrees), offsets=0)\n",
    "    P = D.dot(X).tolil()\n",
    "    P[labels[:, 0]] = 0  # labels[:, 0] indicates IDs of labeled nodes\n",
    "    return P\n",
    "\n",
    "def _build_base_matrix(X, labels, n_classes):\n",
    "    \n",
    "    \"\"\"Build base matrix of Harmonic function\n",
    "\n",
    "    Parameters\n",
    "    ----------\n",
    "    X : scipy sparse matrix, shape = [n_samples, n_samples]\n",
    "        Adjacency matrix\n",
    "    labels : array, shape = [n_samples, 2]\n",
    "        Array of pairs of node id and label id\n",
    "    n_classes : integer\n",
    "        The number of classes (distinct labels) on the input graph\n",
    "\n",
    "    Returns\n",
    "    ----------\n",
    "    B : array, shape = [n_samples, n_classes]\n",
    "        Base matrix\n",
    "    \"\"\"\n",
    "    \n",
    "    n_samples = X.shape[0]\n",
    "    B = np.zeros((n_samples, n_classes))\n",
    "    B[labels[:, 0], labels[:, 1]] = 1\n",
    "\n",
    "    return B"
   ]
  },
  {
   "cell_type": "code",
   "execution_count": 279,
   "metadata": {},
   "outputs": [
    {
     "data": {
      "text/plain": [
       "array([[0.5       , 0.        , 0.        , 0.        ],\n",
       "       [0.        , 0.2       , 0.        , 0.        ],\n",
       "       [0.        , 0.        , 0.33333333, 0.        ],\n",
       "       [0.        , 0.        , 0.        , 0.5       ]])"
      ]
     },
     "execution_count": 279,
     "metadata": {},
     "output_type": "execute_result"
    }
   ],
   "source": [
    "sparse.diags((1.0 / degrees), offsets=0).toarray()"
   ]
  },
  {
   "cell_type": "code",
   "execution_count": 277,
   "metadata": {},
   "outputs": [
    {
     "data": {
      "text/plain": [
       "array([], dtype=int64)"
      ]
     },
     "execution_count": 277,
     "metadata": {},
     "output_type": "execute_result"
    }
   ],
   "source": [
    "degrees = X.sum(axis=0).A[0]\n",
    "degrees[degrees == 0]"
   ]
  },
  {
   "cell_type": "code",
   "execution_count": 265,
   "metadata": {},
   "outputs": [],
   "source": [
    "from networkx.utils.decorators import not_implemented_for\n",
    "from networkx.algorithms.node_classification.utils import (\n",
    "    _get_label_info,\n",
    "    _init_label_matrix,\n",
    "    _propagate,\n",
    "    _predict,\n",
    ")\n",
    "\n",
    "__all__ = ['harmonic_function']"
   ]
  },
  {
   "cell_type": "code",
   "execution_count": 363,
   "metadata": {},
   "outputs": [
    {
     "data": {
      "text/plain": [
       "3"
      ]
     },
     "execution_count": 363,
     "metadata": {},
     "output_type": "execute_result"
    }
   ],
   "source": [
    "X = nx.to_scipy_sparse_matrix(G)\n",
    "X.shape[0]"
   ]
  },
  {
   "cell_type": "code",
   "execution_count": 364,
   "metadata": {},
   "outputs": [
    {
     "data": {
      "text/plain": [
       "array([[0. , 0.5, 0.4],\n",
       "       [0.5, 0. , 0. ],\n",
       "       [0.4, 0. , 0. ]])"
      ]
     },
     "execution_count": 364,
     "metadata": {},
     "output_type": "execute_result"
    }
   ],
   "source": [
    "X.toarray()"
   ]
  },
  {
   "cell_type": "code",
   "execution_count": null,
   "metadata": {},
   "outputs": [],
   "source": [
    "import networkx as nx\n",
    "from networkx.algorithms import node_classification\n",
    "\n",
    "def create_toy_network():\n",
    "    \n",
    "    G = nx.MultiGraph()\n",
    "\n",
    "    edges = [('A','B'), ('B','A'),\n",
    "             ('B','C'), ('C','B'),\n",
    "             ('B','D'), ('D','C')]\n",
    "    \n",
    "    G.add_edges_from(edges)\n",
    "\n",
    "    G.nodes['A']['label'] = 'RED'\n",
    "    G.nodes['C']['label'] = 'BLUE'\n",
    "    \n",
    "    return G"
   ]
  },
  {
   "cell_type": "code",
   "execution_count": null,
   "metadata": {},
   "outputs": [],
   "source": [
    "X = nx.to_scipy_sparse_matrix(G)  # adjacency matrix\n",
    "labels, label_dict = _get_label_info(G, label_name)\n",
    "\n",
    "if labels.shape[0] == 0:\n",
    "    raise nx.NetworkXError(\n",
    "        \"No node on the input graph is labeled by '\" + label_name + \"'.\")\n",
    "\n",
    "n_samples = X.shape[0]\n",
    "n_classes = label_dict.shape[0]\n",
    "\n",
    "F = _init_label_matrix(n_samples, n_classes)\n",
    "\n",
    "P = _build_propagation_matrix(X, labels)\n",
    "B = _build_base_matrix(X, labels, n_classes)\n",
    "\n",
    "remaining_iter = max_iter\n",
    "while remaining_iter > 0:\n",
    "    F = _propagate(P, F, B)\n",
    "    remaining_iter -= 1\n",
    "\n",
    "predicted = _predict(F, label_dict)\n",
    "\n",
    "return predicted"
   ]
  }
 ],
 "metadata": {
  "kernelspec": {
   "display_name": "Python 3",
   "language": "python",
   "name": "python3"
  },
  "language_info": {
   "codemirror_mode": {
    "name": "ipython",
    "version": 3
   },
   "file_extension": ".py",
   "mimetype": "text/x-python",
   "name": "python",
   "nbconvert_exporter": "python",
   "pygments_lexer": "ipython3",
   "version": "3.7.4"
  }
 },
 "nbformat": 4,
 "nbformat_minor": 2
}
