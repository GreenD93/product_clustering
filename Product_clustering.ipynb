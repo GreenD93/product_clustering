{
 "cells": [
  {
   "cell_type": "code",
   "execution_count": 14,
   "metadata": {},
   "outputs": [],
   "source": [
    "import pickle\n",
    "import numpy as np\n",
    "import pandas as pd\n",
    "\n",
    "import faiss\n",
    "\n",
    "from gensim.models import Word2Vec"
   ]
  },
  {
   "cell_type": "code",
   "execution_count": 15,
   "metadata": {},
   "outputs": [],
   "source": [
    "# data path\n",
    "DATA_PATH = 'res/data/new_feat_df.csv'\n",
    "\n",
    "arr_title = pd.read_csv(DATA_PATH, usecols=['title']).values\n",
    "cleaned_arr_title = pd.read_csv(DATA_PATH, usecols=['cleaned_title']).fillna('').values\n",
    "arr_weight = pd.read_csv(DATA_PATH, usecols=['weight']).values"
   ]
  },
  {
   "cell_type": "code",
   "execution_count": 16,
   "metadata": {},
   "outputs": [],
   "source": [
    "corpus_cleaned_title = cleaned_arr_title.flatten().tolist()\n",
    "splited_cleaned_arr_title = [title.split(' ')for title in corpus_cleaned_title]"
   ]
  },
  {
   "cell_type": "markdown",
   "metadata": {},
   "source": [
    "## 1. Make word2vec model"
   ]
  },
  {
   "cell_type": "code",
   "execution_count": null,
   "metadata": {},
   "outputs": [],
   "source": [
    "w2v_model = Word2Vec(splited_cleaned_arr_title, size=100, window=5, min_count=1, workers=4)\n",
    "w2v_model.save('res/model/가공식품_w2v.model')"
   ]
  },
  {
   "cell_type": "markdown",
   "metadata": {},
   "source": [
    "## 2. Make tfidf model"
   ]
  },
  {
   "cell_type": "code",
   "execution_count": null,
   "metadata": {},
   "outputs": [],
   "source": [
    "from sklearn.feature_extraction.text import TfidfVectorizer\n",
    "\n",
    "vectorizer = TfidfVectorizer()\n",
    "X = vectorizer.fit_transform(corpus_cleaned_title)\n",
    "\n",
    "pickle.dump(vectorizer, open('res/model/tfidf.pkl', \"wb\"))"
   ]
  },
  {
   "cell_type": "markdown",
   "metadata": {},
   "source": [
    "## 3. WordVectorSummation"
   ]
  },
  {
   "cell_type": "code",
   "execution_count": null,
   "metadata": {},
   "outputs": [],
   "source": [
    "from wvs_generator import WVSGenerator\n",
    "\n",
    "# Word2vec & TFIDF model path\n",
    "W2V_PATH = 'res/model/가공식품_word2vec.model'\n",
    "TFIDF_PATH = 'res/model/가공식품_tfidf_model.pkl'\n",
    "\n",
    "w2v_model = Word2Vec.load(W2V_PATH)\n",
    "tfidf_model = pickle.load(open(TFIDF_PATH, 'rb'))"
   ]
  },
  {
   "cell_type": "code",
   "execution_count": null,
   "metadata": {},
   "outputs": [],
   "source": [
    "vector_generator = WVSGenerator(arr_title, cleaned_arr_title, w2v_model, tfidf_model)\n",
    "\n",
    "# make wvs\n",
    "vector_generator.do(n_worker=3)\n",
    "\n",
    "# save total wvs\n",
    "vector_generator.save_total_wvs('res/data/가공식품_wvs.npz')"
   ]
  },
  {
   "cell_type": "markdown",
   "metadata": {},
   "source": [
    "## 4. Make faiss index"
   ]
  },
  {
   "cell_type": "code",
   "execution_count": 7,
   "metadata": {},
   "outputs": [
    {
     "name": "stdout",
     "output_type": "stream",
     "text": [
      "True\n",
      "True\n",
      "True\n"
     ]
    }
   ],
   "source": [
    "from index_handle import IndexHandler\n",
    "\n",
    "# vector path\n",
    "arr_title_vector_path = 'res/data/가공식품_wvs.npz'\n",
    "arr_img_vector_path = 'res/data/가공식품_IMGF.npz'\n",
    "arr_concat_vector_path = 'res/data/CONCAT_가공식품.npz'\n",
    "\n",
    "\n",
    "# load vector (title / img / concat)\n",
    "arr_title_vector = np.load(arr_title_vector_path)['arr_0']\n",
    "arr_img_vector = np.load(arr_img_vector_path)['arr_0']\n",
    "arr_concat_vector = np.load(arr_concat_vector_path)['arr_0']\n",
    "\n",
    "# make concat vector \n",
    "# contig_query_vector = np.ascontiguousarray(query_vector, dtype=np.float32)\n",
    "# contig_img_vector = np.ascontiguousarray(img_vector, dtype=np.float32)\n",
    "# concat_vector = np.hstack((contig_query_vector, contig_img_vector))\n",
    "# np.savez('res/data/CONCAT_가공식품', concat_vector)\n",
    "\n",
    "\n",
    "# index path\n",
    "title_index_path = 'res/model/index/title.h5'\n",
    "img_index_path = 'res/model/index/image.h5'\n",
    "concat_index_path = 'res/model/index/concat.h5'\n",
    "\n",
    "# index_handler\n",
    "index_handler = IndexHandler()\n",
    "\n",
    "# make & save index\n",
    "index_handler.make_index(arr_title_vector)\n",
    "index_handler.save_index(title_index_path)\n",
    "\n",
    "index_handler.make_index(arr_img_vector)\n",
    "index_handler.save_index(img_index_path)\n",
    "\n",
    "index_handler.make_index(arr_concat_vector)\n",
    "index_handler.save_index(concat_index_path)"
   ]
  },
  {
   "cell_type": "code",
   "execution_count": 17,
   "metadata": {},
   "outputs": [],
   "source": [
    "from index_handle import IndexHandler\n",
    "index_handler = IndexHandler()\n",
    "\n",
    "# load index\n",
    "title_index = index_handler.load_index(title_index_path)\n",
    "img_index = index_handler.load_index(img_index_path)\n",
    "concat_index = index_handler.load_index(concat_index_path)"
   ]
  },
  {
   "cell_type": "markdown",
   "metadata": {},
   "source": [
    "## 5-1. Intersection filter"
   ]
  },
  {
   "cell_type": "code",
   "execution_count": 18,
   "metadata": {},
   "outputs": [],
   "source": [
    "from filter_handle import FilterHandler\n",
    "filter_handler = FilterHandler(arr_title, arr_weight, title_index, arr_title_vector, img_index, arr_img_vector, concat_index, arr_concat_vector)"
   ]
  },
  {
   "cell_type": "code",
   "execution_count": 19,
   "metadata": {},
   "outputs": [
    {
     "name": "stdout",
     "output_type": "stream",
     "text": [
      "제목 : 미소반 입맛 돋우는 돌산갓 절임 300g 깔끔향긋 방풍나물절임 300g\n",
      "--------------------------------------------------\n",
      "유사 상품 제목\n",
      "['미소반 깔끔향긋 방풍나물절임 300g 2통' '미소반 깔끔향긋 방풍나물절임 300g 3통'\n",
      " '미소반 깔끔향긋 방풍나물절임 300g 5통' '미소반 깔끔향긋 방풍나물절임 300g 5통'\n",
      " '미소반 깔끔향긋 방풍나물절임 300g 3통' '미소반 깔끔향긋 방풍나물절임 300g 2통'\n",
      " '미소반 깔끔향긋 방풍나물절임 300g 3통' '미소반 깔끔향긋 방풍나물절임 300g 5통'\n",
      " '미소반 깔끔향긋 방풍나물절임 300g 5통' '미소반 톡소는 맛이 입맛 돋우는 돌산갓 절임 300g 2통'\n",
      " '미소반 톡소는 맛이 입맛 돋우는 돌산갓 절임 300g 3통' '미소반 톡소는 맛이 입맛 돋우는 돌산갓 절임 300g 5통'\n",
      " '미소반 톡소는 맛이 입맛 돋우는 돌산갓 절임 300g 5통' '미소반 톡소는 맛이 입맛 돋우는 돌산갓 절임 300g 5통'\n",
      " '미소반 톡소는 맛이 입맛 돋우는 돌산갓 절임 300g 5통' '미소반 톡소는 맛이 입맛 돋우는 돌산갓 절임 300g 2통'\n",
      " '미소반 톡소는 맛이 입맛 돋우는 돌산갓 절임 300g 2통' '미소반 톡소는 맛이 입맛 돋우는 돌산갓 절임 300g 3통'\n",
      " '미소반 톡소는 맛이 입맛 돋우는 돌산갓 절임 300g 2통' '미소반 톡소는 맛이 입맛 돋우는 돌산갓 절임 300g 3통'\n",
      " '미소반 톡소는 맛이 입맛 돋우는 돌산갓 절임 300g 5통' '미소반 톡소는 맛이 입맛 돋우는 돌산갓 절임 300g 3통'\n",
      " '미소반 환상궁합 고추냉이잎 절임 300g 입맛 돋우는 돌산갓 절임'\n",
      " '미소반 환상궁합 고추냉이잎 절임 300g 입맛 돋우는 돌산갓 절임'\n",
      " '미소반 환상궁합 고추냉이잎 절임 300g 입맛 돋우는 돌산갓 절임'\n",
      " '미소반 환상궁합 고추냉이잎 절임 300g 입맛 돋우는 돌산갓 절임'\n",
      " '미소반 환상궁합 고추냉이잎 절임 300g 입맛 돋우는 돌산갓 절임 300g'\n",
      " '[원더랜드] 미소반 환상궁합 고추냉이잎 절임 300g 입맛 돋우는 돌산갓 절임 300g'\n",
      " '미소반 환상궁합 고추냉이잎 절임 300g 입맛 돋우는 돌산갓 절임 300g'\n",
      " '미소반 환상궁합 고추냉이잎 절임 300g 입맛 돋우는 돌산갓 절임 300g'\n",
      " '고추냉이 냉이잎 냉이 미소반 환상궁합 고추냉이잎 절임 300g 입맛 돋우는 돌산갓'\n",
      " '미소반 입맛 돋우는 돌산갓 절임 300g 깔끔향긋 방풍나물절임 3'\n",
      " '미소반 입맛 돋우는 돌산갓 절임 300g 깔끔향긋 방풍나물절임 3'\n",
      " '미소반 입맛 돋우는 돌산갓 절임 300g 깔끔향긋 방풍나물절임 3'\n",
      " '미소반 입맛 돋우는 돌산갓 절임 300g 깔끔향긋 방풍나물절임 300g'\n",
      " '[원더랜드] 미소반 입맛 돋우는 돌산갓 절임 300g 깔끔향긋 방풍나물절임 300g'\n",
      " '미소반 입맛 돋우는 돌산갓 절임 300g 깔끔향긋 방풍나물절임 300g'\n",
      " '미소반 입맛 돋우는 돌산갓 절임 300g 깔끔향긋 방풍나물절임 300g'\n",
      " '미소반 환상궁합 고추냉이잎 절임 300g 깔끔향긋 방풍나물절임 3'\n",
      " '미소반 환상궁합 고추냉이잎 절임 300g 깔끔향긋 방풍나물절임 300g'\n",
      " '미소반 환상궁합 고추냉이잎 절임 300g 깔끔향긋 방풍나물절임 300g'\n",
      " '[원더랜드] 미소반 환상궁합 고추냉이잎 절임 300g 깔끔향긋 방풍나물절임 300g'\n",
      " '미소반 환상궁합 고추냉이잎 절임 300g 깔끔향긋 방풍나물절임 300g' '미소반 소스의 환상궁합 고추냉이잎 절임 300g 2통'\n",
      " '미소반 소스의 환상궁합 고추냉이잎 절임 300g 3통' '미소반 소스의 환상궁합 고추냉이잎 절임 300g 5통'\n",
      " '돌산갓 국산 절임 장아찌 300g 톡소는 맛이 미소반 입맛 상하식' '미소반 톡소는 맛이 입맛 돋우는 돌산갓절임 300g 3통'\n",
      " '미소반 톡소는 맛이 입맛 돋우는 돌산갓절임 300g 5통'\n",
      " '환상궁합 국산 고추냉이잎 입맛 신선식품 300g 돌산갓 돋우는 반찬 미소반 장아찌 상하식품'\n",
      " '국산 돌산갓 미소반 깔끔향긋 입맛 상하식품 돋우는 300g 방풍나']\n"
     ]
    }
   ],
   "source": [
    "# 미소반 입맛 돋우는 돌산갓 절임 300g 깔끔향긋 방풍나물절임 300g\n",
    "query_title = arr_title[15000]\n",
    "\n",
    "prod_filter = filter_handler.get_filter('intersection')\n",
    "sim_titles = prod_filter.do(query_title)\n",
    "\n",
    "print('제목 : {0}'.format(query_title[0]))\n",
    "print('-'*50)\n",
    "print('유사 상품 제목')\n",
    "print(sim_titles.flatten())"
   ]
  },
  {
   "cell_type": "markdown",
   "metadata": {},
   "source": [
    "## 5-2. Sequential filter(img->text)"
   ]
  },
  {
   "cell_type": "code",
   "execution_count": 21,
   "metadata": {},
   "outputs": [
    {
     "name": "stdout",
     "output_type": "stream",
     "text": [
      "제목 : 미소반 입맛 돋우는 돌산갓 절임 300g 깔끔향긋 방풍나물절임 300g\n",
      "--------------------------------------------------\n",
      "유사 상품 제목\n",
      "['미소반 환상궁합 고추냉이잎 절임 300g 입맛 돋우는 돌산갓 절임'\n",
      " '미소반 환상궁합 고추냉이잎 절임 300g 입맛 돋우는 돌산갓 절임'\n",
      " '미소반 환상궁합 고추냉이잎 절임 300g 입맛 돋우는 돌산갓 절임'\n",
      " '미소반 환상궁합 고추냉이잎 절임 300g 입맛 돋우는 돌산갓 절임'\n",
      " '미소반 환상궁합 고추냉이잎 절임 300g 입맛 돋우는 돌산갓 절임 300g'\n",
      " '[원더랜드] 미소반 환상궁합 고추냉이잎 절임 300g 입맛 돋우는 돌산갓 절임 300g'\n",
      " '미소반 환상궁합 고추냉이잎 절임 300g 입맛 돋우는 돌산갓 절임 300g'\n",
      " '미소반 환상궁합 고추냉이잎 절임 300g 입맛 돋우는 돌산갓 절임 300g'\n",
      " '고추냉이 냉이잎 냉이 미소반 환상궁합 고추냉이잎 절임 300g 입맛 돋우는 돌산갓'\n",
      " '미소반 입맛 돋우는 돌산갓 절임 300g 깔끔향긋 방풍나물절임 3'\n",
      " '미소반 입맛 돋우는 돌산갓 절임 300g 깔끔향긋 방풍나물절임 3'\n",
      " '미소반 입맛 돋우는 돌산갓 절임 300g 깔끔향긋 방풍나물절임 3'\n",
      " '미소반 입맛 돋우는 돌산갓 절임 300g 깔끔향긋 방풍나물절임 300g'\n",
      " '[원더랜드] 미소반 입맛 돋우는 돌산갓 절임 300g 깔끔향긋 방풍나물절임 300g'\n",
      " '미소반 입맛 돋우는 돌산갓 절임 300g 깔끔향긋 방풍나물절임 300g'\n",
      " '미소반 입맛 돋우는 돌산갓 절임 300g 깔끔향긋 방풍나물절임 300g'\n",
      " '상하식품 300g 환상궁합 300g 장아찌 절임 돋우는 국산 미소'\n",
      " '국산 절임 신선식품 방풍나물절임 돋우는 미소반 상하식품 300g '\n",
      " '절임 방풍나물절임 미소반 상하식품 300g 신선식품 반찬 장아찌 국산 돌산갓 깔끔향긋 돋우는'\n",
      " '국산 장아찌 상하식품 방풍나물절임 반찬 300g 절임 미소반 돌산갓 돋우는 깔끔향긋 신선식품'\n",
      " '환상궁합 국산 고추냉이잎 입맛 신선식품 300g 돌산갓 돋우는 반찬 미소반 장아찌 상하식품'\n",
      " '국산 돌산갓 미소반 깔끔향긋 입맛 상하식품 돋우는 300g 방풍나'\n",
      " '반찬 300g 자연산 절임 돌산갓 절임 신선식품 상하식품 국산 장'\n",
      " '절임 신선식품 미소반 300g 장아찌 국산 깔끔향긋 명이나물 울릉'\n",
      " '미소반 돋우는 300g 신선식품 고추냉이잎 국산 환상궁합 절임 절'\n",
      " '300g 울릉도 국산 장아찌 절임 명이나물 신선식품 돋우는 입맛 '\n",
      " '돌산갓 신선식품 300g 국산 돋우는 입맛 절임 300g 깔끔향긋'\n",
      " '300g 300g 신선식품 국산 미소반 입맛 장아찌 환상궁합 고추']\n"
     ]
    }
   ],
   "source": [
    "prod_filter = filter_handler.get_filter('sequential')\n",
    "sim_titles = prod_filter.do(query_title, filter_type='img')\n",
    "\n",
    "print('제목 : {0}'.format(query_title[0]))\n",
    "print('-'*50)\n",
    "print('유사 상품 제목')\n",
    "print(sim_titles.flatten())"
   ]
  },
  {
   "cell_type": "markdown",
   "metadata": {},
   "source": [
    "## 5-3. Sequential filter(text->img)"
   ]
  },
  {
   "cell_type": "code",
   "execution_count": 22,
   "metadata": {},
   "outputs": [
    {
     "name": "stdout",
     "output_type": "stream",
     "text": [
      "제목 : 미소반 입맛 돋우는 돌산갓 절임 300g 깔끔향긋 방풍나물절임 300g\n",
      "--------------------------------------------------\n",
      "유사 상품 제목\n",
      "['미소반 톡소는 맛이 입맛 돋우는 돌산갓 절임 300g 2통' '미소반 톡소는 맛이 입맛 돋우는 돌산갓 절임 300g 3통'\n",
      " '미소반 톡소는 맛이 입맛 돋우는 돌산갓 절임 300g 5통' '미소반 톡소는 맛이 입맛 돋우는 돌산갓 절임 300g 5통'\n",
      " '미소반 톡소는 맛이 입맛 돋우는 돌산갓 절임 300g 5통' '미소반 톡소는 맛이 입맛 돋우는 돌산갓 절임 300g 5통'\n",
      " '미소반 톡소는 맛이 입맛 돋우는 돌산갓 절임 300g 2통' '미소반 톡소는 맛이 입맛 돋우는 돌산갓 절임 300g 2통'\n",
      " '미소반 톡소는 맛이 입맛 돋우는 돌산갓 절임 300g 3통' '미소반 톡소는 맛이 입맛 돋우는 돌산갓 절임 300g 2통'\n",
      " '미소반 톡소는 맛이 입맛 돋우는 돌산갓 절임 300g 3통' '미소반 톡소는 맛이 입맛 돋우는 돌산갓 절임 300g 5통'\n",
      " '미소반 톡소는 맛이 입맛 돋우는 돌산갓 절임 300g 3통' '미소반 환상궁합 고추냉이잎 절임 300g 입맛 돋우는 돌산갓 절임'\n",
      " '미소반 환상궁합 고추냉이잎 절임 300g 입맛 돋우는 돌산갓 절임'\n",
      " '미소반 환상궁합 고추냉이잎 절임 300g 입맛 돋우는 돌산갓 절임'\n",
      " '미소반 환상궁합 고추냉이잎 절임 300g 입맛 돋우는 돌산갓 절임'\n",
      " '미소반 환상궁합 고추냉이잎 절임 300g 입맛 돋우는 돌산갓 절임 300g'\n",
      " '미소반 환상궁합 고추냉이잎 절임 300g 입맛 돋우는 돌산갓 절임 300g'\n",
      " '미소반 환상궁합 고추냉이잎 절임 300g 입맛 돋우는 돌산갓 절임 300g'\n",
      " '미소반 입맛 돋우는 돌산갓 절임 300g 깔끔향긋 방풍나물절임 3'\n",
      " '미소반 입맛 돋우는 돌산갓 절임 300g 깔끔향긋 방풍나물절임 3'\n",
      " '미소반 입맛 돋우는 돌산갓 절임 300g 깔끔향긋 방풍나물절임 3'\n",
      " '미소반 입맛 돋우는 돌산갓 절임 300g 깔끔향긋 방풍나물절임 300g'\n",
      " '미소반 입맛 돋우는 돌산갓 절임 300g 깔끔향긋 방풍나물절임 300g'\n",
      " '미소반 입맛 돋우는 돌산갓 절임 300g 깔끔향긋 방풍나물절임 300g'\n",
      " '미소반 환상궁합 고추냉이잎 절임 300g 깔끔향긋 방풍나물절임 3'\n",
      " '미소반 환상궁합 고추냉이잎 절임 300g 깔끔향긋 방풍나물절임 300g'\n",
      " '미소반 환상궁합 고추냉이잎 절임 300g 깔끔향긋 방풍나물절임 300g'\n",
      " '미소반 환상궁합 고추냉이잎 절임 300g 깔끔향긋 방풍나물절임 300g' '미소반 소스의 환상궁합 고추냉이잎 절임 300g 2통'\n",
      " '미소반 소스의 환상궁합 고추냉이잎 절임 300g 3통' '미소반 소스의 환상궁합 고추냉이잎 절임 300g 5통']\n"
     ]
    }
   ],
   "source": [
    "prod_filter = filter_handler.get_filter('sequential')\n",
    "sim_titles = prod_filter.do(query_title, filter_type='title')\n",
    "\n",
    "print('제목 : {0}'.format(query_title[0]))\n",
    "print('-'*50)\n",
    "print('유사 상품 제목')\n",
    "print(sim_titles.flatten())"
   ]
  },
  {
   "cell_type": "markdown",
   "metadata": {},
   "source": [
    "## 5-4. Concat filter"
   ]
  },
  {
   "cell_type": "code",
   "execution_count": 23,
   "metadata": {},
   "outputs": [
    {
     "name": "stdout",
     "output_type": "stream",
     "text": [
      "제목 : 미소반 입맛 돋우는 돌산갓 절임 300g 깔끔향긋 방풍나물절임 300g\n",
      "--------------------------------------------------\n",
      "유사 상품 제목\n",
      "['미소반 입맛 돋우는 돌산갓 절임 300g 깔끔향긋 방풍나물절임 3'\n",
      " '미소반 입맛 돋우는 돌산갓 절임 300g 깔끔향긋 방풍나물절임 3'\n",
      " '미소반 입맛 돋우는 돌산갓 절임 300g 깔끔향긋 방풍나물절임 3'\n",
      " '미소반 입맛 돋우는 돌산갓 절임 300g 깔끔향긋 방풍나물절임 300g'\n",
      " '[원더랜드] 미소반 입맛 돋우는 돌산갓 절임 300g 깔끔향긋 방풍나물절임 300g'\n",
      " '미소반 입맛 돋우는 돌산갓 절임 300g 깔끔향긋 방풍나물절임 300g'\n",
      " '미소반 입맛 돋우는 돌산갓 절임 300g 깔끔향긋 방풍나물절임 300g'\n",
      " '국산 절임 신선식품 방풍나물절임 돋우는 미소반 상하식품 300g '\n",
      " '절임 방풍나물절임 미소반 상하식품 300g 신선식품 반찬 장아찌 국산 돌산갓 깔끔향긋 돋우는'\n",
      " '국산 장아찌 상하식품 방풍나물절임 반찬 300g 절임 미소반 돌산갓 돋우는 깔끔향긋 신선식품'\n",
      " '국산 돌산갓 미소반 깔끔향긋 입맛 상하식품 돋우는 300g 방풍나']\n"
     ]
    }
   ],
   "source": [
    "prod_filter = filter_handler.get_filter('concat')\n",
    "sim_titles = prod_filter.do(query_title)\n",
    "\n",
    "print('제목 : {0}'.format(query_title[0]))\n",
    "print('-'*50)\n",
    "print('유사 상품 제목')\n",
    "print(sim_titles.flatten())"
   ]
  }
 ],
 "metadata": {
  "kernelspec": {
   "display_name": "Python 3",
   "language": "python",
   "name": "python3"
  },
  "language_info": {
   "codemirror_mode": {
    "name": "ipython",
    "version": 3
   },
   "file_extension": ".py",
   "mimetype": "text/x-python",
   "name": "python",
   "nbconvert_exporter": "python",
   "pygments_lexer": "ipython3",
   "version": "3.7.6"
  }
 },
 "nbformat": 4,
 "nbformat_minor": 4
}
