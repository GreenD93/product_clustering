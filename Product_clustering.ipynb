{
 "cells": [
  {
   "cell_type": "code",
   "execution_count": 1,
   "metadata": {},
   "outputs": [],
   "source": [
    "import pickle\n",
    "import numpy as np\n",
    "import pandas as pd\n",
    "\n",
    "from gensim.models import Word2Vec\n",
    "import faiss"
   ]
  },
  {
   "cell_type": "code",
   "execution_count": 2,
   "metadata": {},
   "outputs": [],
   "source": [
    "# data path\n",
    "DATA_PATH = 'res/data/new_feat_df.csv'\n",
    "\n",
    "cleaned_arr_title = pd.read_csv(DATA_PATH, usecols=['cleaned_title']).fillna('').values\n",
    "arr_weight = pd.read_csv(DATA_PATH, usecols=['weight']).values"
   ]
  },
  {
   "cell_type": "markdown",
   "metadata": {},
   "source": [
    "## 1. Make wordvector summation (SIF or WVS)"
   ]
  },
  {
   "cell_type": "code",
   "execution_count": 3,
   "metadata": {},
   "outputs": [],
   "source": [
    "# from sif_generator import SIFGenerator\n",
    "\n",
    "# sif_generator = SIFGenerator()\n",
    "# total_wvs = sif_generator.do(cleaned_arr_title, n_worker = 3, svd=True)"
   ]
  },
  {
   "cell_type": "code",
   "execution_count": 4,
   "metadata": {},
   "outputs": [
    {
     "name": "stdout",
     "output_type": "stream",
     "text": [
      "=> start training w2v model....\n",
      "=> end training w2v model....\n",
      "=> start training tfidf model....\n",
      "=> end training tfidf model....\n",
      "3 process running...\n"
     ]
    },
    {
     "name": "stderr",
     "output_type": "stream",
     "text": [
      "100%|██████████| 102000/102000 [03:12<00:00, 531.18it/s]\n",
      "100%|██████████| 102000/102000 [03:12<00:00, 531.08it/s]\n",
      "100%|██████████| 101999/101999 [03:15<00:00, 522.21it/s]\n"
     ]
    },
    {
     "name": "stdout",
     "output_type": "stream",
     "text": [
      "=> make_wvs process is done....\n"
     ]
    }
   ],
   "source": [
    "from wvs_generator import WVSGenerator\n",
    "\n",
    "# ex) ['아버지 가방에 들어가신다', '이 문장은 예시 입니다.']\n",
    "flatten_cleaned_arr_title = cleaned_arr_title.flatten()\n",
    "\n",
    "wvs_generator = WVSGenerator()\n",
    "total_wvs = wvs_generator.do(flatten_cleaned_arr_title, n_worker=3)"
   ]
  },
  {
   "cell_type": "markdown",
   "metadata": {},
   "source": [
    "## 2. Save Models & Vectors"
   ]
  },
  {
   "cell_type": "code",
   "execution_count": 5,
   "metadata": {},
   "outputs": [
    {
     "name": "stdout",
     "output_type": "stream",
     "text": [
      "=> save total_wvs to res/data/가공식품_wvs.npz\n",
      "=> save w2v_model to res/model/가공식품_word2vec.model\n",
      "=> save tfidf_model to res/model/가공식품_tfidf_model.pkl\n"
     ]
    }
   ],
   "source": [
    "WVS_PATH = 'res/data/가공식품_wvs.npz'\n",
    "W2V_PATH = 'res/model/가공식품_word2vec.model'\n",
    "TFIDF_PATH = 'res/model/가공식품_tfidf_model.pkl'\n",
    "\n",
    "# save total wvs vectors\n",
    "wvs_generator.save_total_wvs(WVS_PATH)\n",
    "\n",
    "# save w2v_model\n",
    "wvs_generator.save_w2v_model(W2V_PATH)\n",
    "\n",
    "# save tfidf_model\n",
    "wvs_generator.save_tfidf_model(TFIDF_PATH)"
   ]
  },
  {
   "cell_type": "markdown",
   "metadata": {},
   "source": [
    "## 3. Make concat/img vector\n",
    "-"
   ]
  },
  {
   "cell_type": "markdown",
   "metadata": {},
   "source": [
    "## 4. Make faiss index"
   ]
  },
  {
   "cell_type": "code",
   "execution_count": 6,
   "metadata": {},
   "outputs": [
    {
     "name": "stdout",
     "output_type": "stream",
     "text": [
      "True\n",
      "True\n",
      "True\n"
     ]
    }
   ],
   "source": [
    "from index_handle import IndexHandler\n",
    "\n",
    "# vector path\n",
    "arr_title_vector_path = 'res/data/가공식품_wvs.npz'\n",
    "arr_img_vector_path = 'res/data/가공식품_IMGF.npz'\n",
    "arr_concat_vector_path = 'res/data/CONCAT_가공식품.npz'\n",
    "\n",
    "\n",
    "# load vector (title / img / concat)\n",
    "arr_title_vector = np.load(arr_title_vector_path)['arr_0']\n",
    "arr_img_vector = np.load(arr_img_vector_path)['arr_0']\n",
    "arr_concat_vector = np.load(arr_concat_vector_path)['arr_0']\n",
    "\n",
    "# make concat vector \n",
    "# contig_query_vector = np.ascontiguousarray(query_vector, dtype=np.float32)\n",
    "# contig_img_vector = np.ascontiguousarray(img_vector, dtype=np.float32)\n",
    "# concat_vector = np.hstack((contig_query_vector, contig_img_vector))\n",
    "# np.savez('res/data/CONCAT_가공식품', concat_vector)\n",
    "\n",
    "\n",
    "# index path\n",
    "title_index_path = 'res/model/index/title.h5'\n",
    "img_index_path = 'res/model/index/image.h5'\n",
    "concat_index_path = 'res/model/index/concat.h5'\n",
    "\n",
    "# index_handler\n",
    "index_handler = IndexHandler()\n",
    "\n",
    "# make & save index\n",
    "index_handler.make_index(arr_title_vector)\n",
    "index_handler.save_index(title_index_path)\n",
    "\n",
    "index_handler.make_index(arr_img_vector)\n",
    "index_handler.save_index(img_index_path)\n",
    "\n",
    "index_handler.make_index(arr_concat_vector)\n",
    "index_handler.save_index(concat_index_path)"
   ]
  },
  {
   "cell_type": "code",
   "execution_count": 7,
   "metadata": {},
   "outputs": [],
   "source": [
    "from index_handle import IndexHandler\n",
    "index_handler = IndexHandler()\n",
    "\n",
    "# load index\n",
    "title_index = index_handler.load_index(title_index_path)\n",
    "img_index = index_handler.load_index(img_index_path)\n",
    "concat_index = index_handler.load_index(concat_index_path)"
   ]
  },
  {
   "cell_type": "markdown",
   "metadata": {},
   "source": [
    "## 5-1. Intersection filter (img ∩ text)"
   ]
  },
  {
   "cell_type": "code",
   "execution_count": 8,
   "metadata": {},
   "outputs": [],
   "source": [
    "from filter_handle import FilterHandler\n",
    "filter_handler = FilterHandler(cleaned_arr_title, arr_weight, title_index, arr_title_vector, img_index, arr_img_vector, concat_index, arr_concat_vector)"
   ]
  },
  {
   "cell_type": "code",
   "execution_count": 9,
   "metadata": {},
   "outputs": [
    {
     "name": "stdout",
     "output_type": "stream",
     "text": [
      "제목 : 미소반 입맛 돋우는 돌산갓 절임 깔끔향긋 방풍나물절임\n",
      "--------------------------------------------------\n",
      "유사 상품 제목\n",
      "['미소반 엄선한 재료와 소스의 환상궁합 고추냉이잎 절임' '미소반 엄선한 재료와 소스의 환상궁합 고추냉이잎 절임'\n",
      " '미소반 엄선한 재료와 소스의 환상궁합 고추냉이잎 절임' '미소반 엄선한 재료와 소스의 환상궁합 고추냉이잎 절임'\n",
      " '미소반 엄선한 재료와 소스의 환상궁합 고추냉이잎 절임' '미소반 엄선한 재료와 소스의 환상궁합 고추냉이잎 절임'\n",
      " '미소반 엄선한 재료와 소스의 환상궁합 고추냉이잎 절임' '미소반 엄선한 재료와 소스의 환상궁합 고추냉이잎 절임 통'\n",
      " '미소반 엄선한 재료와 소스의 환상궁합 고추냉이잎 절임 통' '미소반 엄선한 재료와 소스의 환상궁합 고추냉이잎 절임 통'\n",
      " '미소반 엄선한 재료와 소스의 환상궁합 고추냉이잎 절임 통' '미소반 엄선한 재료와 소스의 환상궁합 고추냉이잎 절임 통'\n",
      " '미소반 엄선한 재료와 소스의 환상궁합 고추냉이잎 절임 통' '미소반 톡소는 맛이 입맛 돋우는 돌산갓 절임 통'\n",
      " '미소반 톡소는 맛이 입맛 돋우는 돌산갓 절임 통' '미소반 톡소는 맛이 입맛 돋우는 돌산갓 절임 통'\n",
      " '미소반 톡소는 맛이 입맛 돋우는 돌산갓 절임 통' '미소반 톡소는 맛이 입맛 돋우는 돌산갓 절임 통'\n",
      " '미소반 톡소는 맛이 입맛 돋우는 돌산갓 절임 통' '미소반 톡소는 맛이 입맛 돋우는 돌산갓 절임 통'\n",
      " '미소반 톡소는 맛이 입맛 돋우는 돌산갓 절임 통' '미소반 톡소는 맛이 입맛 돋우는 돌산갓 절임 통'\n",
      " '원더랜드 미소반 톡소는 맛이 입맛 돋우는 돌산갓 절임 통' '원더랜드 미소반 톡소는 맛이 입맛 돋우는 돌산갓 절임 통'\n",
      " '미소반 톡소는 맛이 입맛 돋우는 돌산갓 절임 통' '미소반 톡소는 맛이 입맛 돋우는 돌산갓 절임 통'\n",
      " '미소반 톡소는 맛이 입맛 돋우는 돌산갓 절임 통' '미소반 톡소는 맛이 입맛 돋우는 돌산갓 절임 통'\n",
      " '미소반 환상궁합 고추냉이잎 절임 입맛 돋우는 돌산갓 절임' '미소반 환상궁합 고추냉이잎 절임 입맛 돋우는 돌산갓 절임'\n",
      " '미소반 환상궁합 고추냉이잎 절임 입맛 돋우는 돌산갓 절임' '미소반 환상궁합 고추냉이잎 절임 입맛 돋우는 돌산갓 절임'\n",
      " '미소반 환상궁합 고추냉이잎 절임 입맛 돋우는 돌산갓 절임' '원더랜드 미소반 환상궁합 고추냉이잎 절임 입맛 돋우는 돌산갓 절임'\n",
      " '미소반 환상궁합 고추냉이잎 절임 입맛 돋우는 돌산갓 절임' '미소반 환상궁합 고추냉이잎 절임 입맛 돋우는 돌산갓 절임'\n",
      " '고추냉이 냉이잎 냉이 미소반 환상궁합 고추냉이잎 절임 입맛 돋우는 돌산갓'\n",
      " '미소반 입맛 돋우는 돌산갓 절임 깔끔향긋 방풍나물절임' '미소반 입맛 돋우는 돌산갓 절임 깔끔향긋 방풍나물절임'\n",
      " '미소반 입맛 돋우는 돌산갓 절임 깔끔향긋 방풍나물절임' '미소반 입맛 돋우는 돌산갓 절임 깔끔향긋 방풍나물절임'\n",
      " '원더랜드 미소반 입맛 돋우는 돌산갓 절임 깔끔향긋 방풍나물절임' '미소반 입맛 돋우는 돌산갓 절임 깔끔향긋 방풍나물절임'\n",
      " '미소반 입맛 돋우는 돌산갓 절임 깔끔향긋 방풍나물절임' '미소반 환상궁합 고추냉이잎 절임 깔끔향긋 방풍나물절임'\n",
      " '미소반 환상궁합 고추냉이잎 절임 깔끔향긋 방풍나물절임' '미소반 환상궁합 고추냉이잎 절임 깔끔향긋 방풍나물절임'\n",
      " '원더랜드 미소반 환상궁합 고추냉이잎 절임 깔끔향긋 방풍나물절임' '미소반 환상궁합 고추냉이잎 절임 깔끔향긋 방풍나물절임'\n",
      " '미소반 소스의 환상궁합 고추냉이잎 절임 통' '미소반 소스의 환상궁합 고추냉이잎 절임 통'\n",
      " '미소반 소스의 환상궁합 고추냉이잎 절임 통' '상하식품 환상궁합 장아찌 절임 돋우는 국산 미소'\n",
      " '돋우는 맛이 돌산갓 입맛 국산 장아찌 반찬 절임 톡소는' '돌산갓 국산 절임 장아찌 톡소는 맛이 미소반 입맛 상하식'\n",
      " '맛이 상하식품 미소반 돌산갓 신선식품 톡소는 입맛 절임 장아찌 통 국산'\n",
      " '신선식품 국산 반찬 환상궁합 고추냉이잎 깔끔향긋 장아찌 미소반 절임 상하식품 방풍나물절임'\n",
      " '고추냉이잎 깔끔향긋 절임 장아찌 방풍나물절임 상하식품 환상궁합 국산 미소반 신선식품 반찬'\n",
      " '절임 방풍나물절임 미소반 상하식품 신선식품 반찬 장아찌 국산 돌산갓 깔끔향긋 돋우는'\n",
      " '국산 장아찌 상하식품 방풍나물절임 반찬 절임 미소반 돌산갓 돋우는 깔끔향긋 신선식품'\n",
      " '돋우는 통 반찬 신선식품 톡소는 맛이 국산 장아찌 상하식품 돌산갓 입맛'\n",
      " '맛이 통 톡소는 신선식품 절임 돋우는 국산 돌산갓 반찬 입맛 상하식품'\n",
      " '엄선한 상하식품 미소반 환상궁합 국산 절임 고추냉이잎 신선식품 장아찌 통 소스의'\n",
      " '국산 반찬 신선식품 통 상하식품 미소반 맛이 절임 입맛 톡소는 돌산갓'\n",
      " '환상궁합 국산 고추냉이잎 입맛 신선식품 돌산갓 돋우는 반찬 미소반 장아찌 상하식품'\n",
      " '국산 돌산갓 미소반 깔끔향긋 입맛 상하식품 돋우는 방풍나' '재료와 고추냉이잎 엄선한 미소반 상하식품 통 절임 반찬'\n",
      " '맛이 신선식품 절임 톡소는 돌산갓 돋우는 국산 상하식품' '절임 신선식품 미소반 장아찌 국산 깔끔향긋 명이나물 울릉'\n",
      " '돌산갓 통 미소반 장아찌 상하식품 맛이 신선식품 입맛' '울릉도 국산 장아찌 절임 명이나물 신선식품 돋우는 입맛'\n",
      " '돌산갓 신선식품 국산 돋우는 입맛 절임 깔끔향긋']\n"
     ]
    }
   ],
   "source": [
    "# 미소반 입맛 돋우는 돌산갓 절임 300g 깔끔향긋 방풍나물절임 300g\n",
    "query_title = cleaned_arr_title[15000]\n",
    "\n",
    "prod_filter = filter_handler.get_filter('intersection')\n",
    "sim_titles = prod_filter.do(query_title)\n",
    "\n",
    "print('제목 : {0}'.format(query_title[0]))\n",
    "print('-'*50)\n",
    "print('유사 상품 제목')\n",
    "print(sim_titles.flatten())"
   ]
  },
  {
   "cell_type": "markdown",
   "metadata": {},
   "source": [
    "## 5-2. Sequential filter(img->text)"
   ]
  },
  {
   "cell_type": "code",
   "execution_count": 10,
   "metadata": {},
   "outputs": [
    {
     "name": "stdout",
     "output_type": "stream",
     "text": [
      "제목 : 미소반 입맛 돋우는 돌산갓 절임 깔끔향긋 방풍나물절임\n",
      "--------------------------------------------------\n",
      "유사 상품 제목\n",
      "['미소반 환상궁합 고추냉이잎 절임 입맛 돋우는 돌산갓 절임' '미소반 환상궁합 고추냉이잎 절임 입맛 돋우는 돌산갓 절임'\n",
      " '미소반 환상궁합 고추냉이잎 절임 입맛 돋우는 돌산갓 절임' '미소반 환상궁합 고추냉이잎 절임 입맛 돋우는 돌산갓 절임'\n",
      " '미소반 환상궁합 고추냉이잎 절임 입맛 돋우는 돌산갓 절임' '원더랜드 미소반 환상궁합 고추냉이잎 절임 입맛 돋우는 돌산갓 절임'\n",
      " '미소반 환상궁합 고추냉이잎 절임 입맛 돋우는 돌산갓 절임' '미소반 환상궁합 고추냉이잎 절임 입맛 돋우는 돌산갓 절임'\n",
      " '고추냉이 냉이잎 냉이 미소반 환상궁합 고추냉이잎 절임 입맛 돋우는 돌산갓'\n",
      " '미소반 입맛 돋우는 돌산갓 절임 깔끔향긋 방풍나물절임' '미소반 입맛 돋우는 돌산갓 절임 깔끔향긋 방풍나물절임'\n",
      " '미소반 입맛 돋우는 돌산갓 절임 깔끔향긋 방풍나물절임' '미소반 입맛 돋우는 돌산갓 절임 깔끔향긋 방풍나물절임'\n",
      " '원더랜드 미소반 입맛 돋우는 돌산갓 절임 깔끔향긋 방풍나물절임' '미소반 입맛 돋우는 돌산갓 절임 깔끔향긋 방풍나물절임'\n",
      " '미소반 입맛 돋우는 돌산갓 절임 깔끔향긋 방풍나물절임' '상하식품 환상궁합 장아찌 절임 돋우는 국산 미소'\n",
      " '국산 절임 신선식품 방풍나물절임 돋우는 미소반 상하식품'\n",
      " '절임 방풍나물절임 미소반 상하식품 신선식품 반찬 장아찌 국산 돌산갓 깔끔향긋 돋우는'\n",
      " '국산 장아찌 상하식품 방풍나물절임 반찬 절임 미소반 돌산갓 돋우는 깔끔향긋 신선식품'\n",
      " '환상궁합 국산 고추냉이잎 입맛 신선식품 돌산갓 돋우는 반찬 미소반 장아찌 상하식품'\n",
      " '국산 돌산갓 미소반 깔끔향긋 입맛 상하식품 돋우는 방풍나' '반찬 자연산 절임 돌산갓 절임 신선식품 상하식품 국산 장'\n",
      " '절임 신선식품 미소반 장아찌 국산 깔끔향긋 명이나물 울릉' '미소반 돋우는 신선식품 고추냉이잎 국산 환상궁합 절임 절'\n",
      " '울릉도 국산 장아찌 절임 명이나물 신선식품 돋우는 입맛' '돌산갓 신선식품 국산 돋우는 입맛 절임 깔끔향긋'\n",
      " '신선식품 국산 미소반 입맛 장아찌 환상궁합 고추']\n"
     ]
    }
   ],
   "source": [
    "prod_filter = filter_handler.get_filter('sequential')\n",
    "sim_titles = prod_filter.do(query_title, filter_type='img')\n",
    "\n",
    "print('제목 : {0}'.format(query_title[0]))\n",
    "print('-'*50)\n",
    "print('유사 상품 제목')\n",
    "print(sim_titles.flatten())"
   ]
  },
  {
   "cell_type": "markdown",
   "metadata": {},
   "source": [
    "## 5-3. Sequential filter(text->img)"
   ]
  },
  {
   "cell_type": "code",
   "execution_count": 11,
   "metadata": {},
   "outputs": [
    {
     "name": "stdout",
     "output_type": "stream",
     "text": [
      "제목 : 미소반 입맛 돋우는 돌산갓 절임 깔끔향긋 방풍나물절임\n",
      "--------------------------------------------------\n",
      "유사 상품 제목\n",
      "['미소반 엄선한 재료와 소스의 환상궁합 고추냉이잎 절임' '미소반 엄선한 재료와 소스의 환상궁합 고추냉이잎 절임'\n",
      " '미소반 엄선한 재료와 소스의 환상궁합 고추냉이잎 절임' '미소반 엄선한 재료와 소스의 환상궁합 고추냉이잎 절임'\n",
      " '미소반 엄선한 재료와 소스의 환상궁합 고추냉이잎 절임' '미소반 엄선한 재료와 소스의 환상궁합 고추냉이잎 절임'\n",
      " '미소반 엄선한 재료와 소스의 환상궁합 고추냉이잎 절임' '미소반 환상궁합 고추냉이잎 절임 입맛 돋우는 돌산갓 절임'\n",
      " '미소반 환상궁합 고추냉이잎 절임 입맛 돋우는 돌산갓 절임' '미소반 환상궁합 고추냉이잎 절임 입맛 돋우는 돌산갓 절임'\n",
      " '미소반 환상궁합 고추냉이잎 절임 입맛 돋우는 돌산갓 절임' '미소반 환상궁합 고추냉이잎 절임 입맛 돋우는 돌산갓 절임'\n",
      " '원더랜드 미소반 환상궁합 고추냉이잎 절임 입맛 돋우는 돌산갓 절임' '미소반 환상궁합 고추냉이잎 절임 입맛 돋우는 돌산갓 절임'\n",
      " '미소반 환상궁합 고추냉이잎 절임 입맛 돋우는 돌산갓 절임'\n",
      " '고추냉이 냉이잎 냉이 미소반 환상궁합 고추냉이잎 절임 입맛 돋우는 돌산갓'\n",
      " '미소반 입맛 돋우는 돌산갓 절임 깔끔향긋 방풍나물절임' '미소반 입맛 돋우는 돌산갓 절임 깔끔향긋 방풍나물절임'\n",
      " '미소반 입맛 돋우는 돌산갓 절임 깔끔향긋 방풍나물절임' '미소반 입맛 돋우는 돌산갓 절임 깔끔향긋 방풍나물절임'\n",
      " '원더랜드 미소반 입맛 돋우는 돌산갓 절임 깔끔향긋 방풍나물절임' '미소반 입맛 돋우는 돌산갓 절임 깔끔향긋 방풍나물절임'\n",
      " '미소반 입맛 돋우는 돌산갓 절임 깔끔향긋 방풍나물절임' '미소반 환상궁합 고추냉이잎 절임 깔끔향긋 방풍나물절임'\n",
      " '미소반 환상궁합 고추냉이잎 절임 깔끔향긋 방풍나물절임' '미소반 환상궁합 고추냉이잎 절임 깔끔향긋 방풍나물절임'\n",
      " '미소반 환상궁합 고추냉이잎 절임 깔끔향긋 방풍나물절임']\n"
     ]
    }
   ],
   "source": [
    "prod_filter = filter_handler.get_filter('sequential')\n",
    "sim_titles = prod_filter.do(query_title, filter_type='title')\n",
    "\n",
    "print('제목 : {0}'.format(query_title[0]))\n",
    "print('-'*50)\n",
    "print('유사 상품 제목')\n",
    "print(sim_titles.flatten())"
   ]
  },
  {
   "cell_type": "markdown",
   "metadata": {},
   "source": [
    "## 5-4. Concat filter"
   ]
  },
  {
   "cell_type": "code",
   "execution_count": 12,
   "metadata": {},
   "outputs": [
    {
     "name": "stdout",
     "output_type": "stream",
     "text": [
      "제목 : 미소반 입맛 돋우는 돌산갓 절임 깔끔향긋 방풍나물절임\n",
      "--------------------------------------------------\n",
      "유사 상품 제목\n",
      "['미소반 입맛 돋우는 돌산갓 절임 깔끔향긋 방풍나물절임' '미소반 입맛 돋우는 돌산갓 절임 깔끔향긋 방풍나물절임'\n",
      " '미소반 입맛 돋우는 돌산갓 절임 깔끔향긋 방풍나물절임' '미소반 입맛 돋우는 돌산갓 절임 깔끔향긋 방풍나물절임'\n",
      " '원더랜드 미소반 입맛 돋우는 돌산갓 절임 깔끔향긋 방풍나물절임' '미소반 입맛 돋우는 돌산갓 절임 깔끔향긋 방풍나물절임'\n",
      " '미소반 입맛 돋우는 돌산갓 절임 깔끔향긋 방풍나물절임' '국산 절임 신선식품 방풍나물절임 돋우는 미소반 상하식품'\n",
      " '절임 방풍나물절임 미소반 상하식품 신선식품 반찬 장아찌 국산 돌산갓 깔끔향긋 돋우는'\n",
      " '국산 장아찌 상하식품 방풍나물절임 반찬 절임 미소반 돌산갓 돋우는 깔끔향긋 신선식품'\n",
      " '국산 돌산갓 미소반 깔끔향긋 입맛 상하식품 돋우는 방풍나']\n"
     ]
    }
   ],
   "source": [
    "prod_filter = filter_handler.get_filter('concat')\n",
    "sim_titles = prod_filter.do(query_title)\n",
    "\n",
    "print('제목 : {0}'.format(query_title[0]))\n",
    "print('-'*50)\n",
    "print('유사 상품 제목')\n",
    "print(sim_titles.flatten())"
   ]
  }
 ],
 "metadata": {
  "kernelspec": {
   "display_name": "Python 3",
   "language": "python",
   "name": "python3"
  },
  "language_info": {
   "codemirror_mode": {
    "name": "ipython",
    "version": 3
   },
   "file_extension": ".py",
   "mimetype": "text/x-python",
   "name": "python",
   "nbconvert_exporter": "python",
   "pygments_lexer": "ipython3",
   "version": "3.7.6"
  }
 },
 "nbformat": 4,
 "nbformat_minor": 4
}
